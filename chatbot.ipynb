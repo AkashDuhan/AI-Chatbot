{
 "cells": [
  {
   "cell_type": "code",
   "execution_count": 2,
   "id": "f1afa001",
   "metadata": {},
   "outputs": [],
   "source": [
    "import json\n",
    "import random\n",
    "import pickle\n",
    "import numpy as np\n",
    "import nltk\n",
    "from re import findall\n",
    "from nltk.stem import WordNetLemmatizer\n",
    "import datetime as dt\n",
    "from tensorflow.keras.models import load_model"
   ]
  },
  {
   "cell_type": "code",
   "execution_count": 3,
   "id": "73a1d566",
   "metadata": {},
   "outputs": [],
   "source": [
    "lemmantizer = WordNetLemmatizer()"
   ]
  },
  {
   "cell_type": "code",
   "execution_count": 4,
   "id": "0284b060",
   "metadata": {},
   "outputs": [],
   "source": [
    "intents = json.loads(open('C:/Users/Admin/Python LL Docs/AI Chatbot/intents.json').read())"
   ]
  },
  {
   "cell_type": "code",
   "execution_count": 5,
   "id": "34cec329",
   "metadata": {},
   "outputs": [],
   "source": [
    "words = pickle.load(open(\"words.pkl\", \"rb\"))"
   ]
  },
  {
   "cell_type": "code",
   "execution_count": 6,
   "id": "90d64220",
   "metadata": {},
   "outputs": [],
   "source": [
    "classes = pickle.load(open(\"classes.pkl\", \"rb\"))"
   ]
  },
  {
   "cell_type": "code",
   "execution_count": 7,
   "id": "84d654dd",
   "metadata": {},
   "outputs": [],
   "source": [
    "model = load_model(\"chatbot_model.h5\")"
   ]
  },
  {
   "cell_type": "code",
   "execution_count": 8,
   "id": "fc56eff1",
   "metadata": {},
   "outputs": [],
   "source": [
    "def clean_up_sentence(sentence):\n",
    "    sentence_words = nltk.word_tokenize(sentence)\n",
    "    sentence_words = [lemmantizer.lemmatize(word) for word in sentence_words]\n",
    "    return sentence_words"
   ]
  },
  {
   "cell_type": "code",
   "execution_count": 9,
   "id": "9de06623",
   "metadata": {},
   "outputs": [],
   "source": [
    "def bag_of_words(sentence):\n",
    "    sentence_words = clean_up_sentence(sentence)\n",
    "    bag = [0]*len(words)\n",
    "    for w in sentence_words:\n",
    "        for i, word in enumerate(words):\n",
    "            if word == w:\n",
    "                bag[i]=1\n",
    "    return np.array(bag)"
   ]
  },
  {
   "cell_type": "code",
   "execution_count": 10,
   "id": "c760dba2",
   "metadata": {},
   "outputs": [],
   "source": [
    "def predict_class(sentence):\n",
    "    bow = bag_of_words(sentence)\n",
    "    res = model.predict(np.array([bow]))[0]\n",
    "    ERROR_THRESHOLD = 0.5\n",
    "    results = [[i,r] for i,r in enumerate(res) if r > ERROR_THRESHOLD]\n",
    "    results.sort(key = lambda x: x[1], reverse = True)\n",
    "    return_list = []\n",
    "    for r in results:\n",
    "        return_list.append({\"intent\":classes[r[0]],\"probability\": str(r[1])})\n",
    "    return return_list"
   ]
  },
  {
   "cell_type": "code",
   "execution_count": 11,
   "id": "3ec93e5b",
   "metadata": {},
   "outputs": [],
   "source": [
    "def get_response(intents_list,intents_json):\n",
    "    tag = intents_list[0][\"intent\"]\n",
    "    list_of_intents = intents_json[\"intents\"]\n",
    "    for i in list_of_intents:\n",
    "        if i[\"tag\"] == tag:\n",
    "            result = random.choice(i[\"responses\"])\n",
    "            break\n",
    "    return result"
   ]
  },
  {
   "cell_type": "code",
   "execution_count": 12,
   "id": "d56f17dd",
   "metadata": {},
   "outputs": [],
   "source": [
    "new_vocab = []\n",
    "time_chat = []"
   ]
  },
  {
   "cell_type": "code",
   "execution_count": 15,
   "id": "50dcde4e",
   "metadata": {},
   "outputs": [
    {
     "name": "stdout",
     "output_type": "stream",
     "text": [
      "Hi, I'm Puzzle, asks me anything?\n",
      "Exit\n"
     ]
    }
   ],
   "source": [
    "print(\"Hi, I'm Puzzle, asks me anything?\")\n",
    "\n",
    "while True:\n",
    "    message = input(\"\")\n",
    "    message = message.lower()\n",
    "    \n",
    "    #temporary\n",
    "    curr_time = dt.datetime.now()\n",
    "    time_chat.append({str(curr_time),message})\n",
    "    #to add vocabulary\n",
    "    if message not in new_vocab:\n",
    "        new_vocab.append(message)    \n",
    "    \n",
    "    #to break code\n",
    "    if message.lower() == \"exit\":\n",
    "        break\n",
    "    \n",
    "    #JSON based chat\n",
    "    try:\n",
    "        ints = predict_class(message)\n",
    "        res = get_response(ints,intents)\n",
    "        print(res)\n",
    "        \n",
    "    except:\n",
    "        print(\"Please reframe your sentence and try asking me again.\")"
   ]
  },
  {
   "cell_type": "code",
   "execution_count": null,
   "id": "acedda95",
   "metadata": {},
   "outputs": [],
   "source": [
    "new_vocab"
   ]
  },
  {
   "cell_type": "code",
   "execution_count": null,
   "id": "c252e2e2",
   "metadata": {},
   "outputs": [],
   "source": [
    "time_chat"
   ]
  }
 ],
 "metadata": {
  "kernelspec": {
   "display_name": "Python 3 (ipykernel)",
   "language": "python",
   "name": "python3"
  },
  "language_info": {
   "codemirror_mode": {
    "name": "ipython",
    "version": 3
   },
   "file_extension": ".py",
   "mimetype": "text/x-python",
   "name": "python",
   "nbconvert_exporter": "python",
   "pygments_lexer": "ipython3",
   "version": "3.9.12"
  }
 },
 "nbformat": 4,
 "nbformat_minor": 5
}
